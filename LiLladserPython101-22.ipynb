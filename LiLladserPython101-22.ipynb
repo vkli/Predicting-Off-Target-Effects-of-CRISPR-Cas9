{
 "cells": [
  {
   "cell_type": "markdown",
   "metadata": {},
   "source": [
    "# ASSUME CAS NOT REUSED, STAGE OF CELL CYCLE ALLOWS CRISPR-CAS"
   ]
  },
  {
   "cell_type": "markdown",
   "metadata": {},
   "source": [
    "# p = P(MUTATE (OFF)-TARGET) = mCpPAM x P(MUTATE | PAM)"
   ]
  },
  {
   "cell_type": "markdown",
   "metadata": {},
   "source": [
    "# FIND m"
   ]
  },
  {
   "cell_type": "code",
   "execution_count": 1,
   "metadata": {},
   "outputs": [],
   "source": [
    "#m = # sgRNA-Cas molecules\n",
    "#Hsu et al. ->\n",
    "m=180660"
   ]
  },
  {
   "cell_type": "markdown",
   "metadata": {},
   "source": [
    "# C IS PARAMETER TO FIT"
   ]
  },
  {
   "cell_type": "code",
   "execution_count": 2,
   "metadata": {},
   "outputs": [],
   "source": [
    "#C = (1-b^N)/(1-b)\n",
    "#b = P(1 trial results in no mutation) = constant for given genome\n",
    "#N = max trials possible by CRISPR-Cas in time interval studied = constant"
   ]
  },
  {
   "cell_type": "markdown",
   "metadata": {},
   "source": [
    "# FIND pPAM"
   ]
  },
  {
   "cell_type": "code",
   "execution_count": 3,
   "metadata": {},
   "outputs": [],
   "source": [
    "#pPAM = P(interrogate particular PAM in 1 trial)\n",
    "#1 trial: sgRNA interrogates 1 PAM -> mutate or no mutate\n",
    "\n",
    "#Hsu et al. -> human cells"
   ]
  },
  {
   "cell_type": "markdown",
   "metadata": {},
   "source": [
    "# FASTA SEQUENCE IS + STRAND, 5'-3'"
   ]
  },
  {
   "cell_type": "markdown",
   "metadata": {},
   "source": [
    "# VALID TARGET+PAM IS ANY 5'-TARGET-PAM-3'"
   ]
  },
  {
   "cell_type": "code",
   "execution_count": 4,
   "metadata": {},
   "outputs": [],
   "source": [
    "def complement35(DNA53): #given a 5'-3' DNA strand as string, return the 3'-5' complement as string\n",
    "    k=0\n",
    "    DNA35 = \"\"\n",
    "    while k<len(DNA53):\n",
    "        if DNA53[k]=='A':\n",
    "            DNA35 += 'T'\n",
    "        elif DNA53[k]=='T': #must use elif, not else!\n",
    "            DNA35 += 'A'\n",
    "        elif DNA53[k]=='C':\n",
    "            DNA35 += 'G'\n",
    "        else:\n",
    "            DNA35 += 'C'\n",
    "        k+=1\n",
    "    return DNA35"
   ]
  },
  {
   "cell_type": "code",
   "execution_count": 5,
   "metadata": {},
   "outputs": [],
   "source": [
    "def reverse(DNA): #given a string, return it in reverse order\n",
    "    k=len(DNA)-1\n",
    "    rev = \"\"\n",
    "    while k>=0:\n",
    "        rev+=DNA[k]\n",
    "        k-=1\n",
    "    return rev"
   ]
  },
  {
   "cell_type": "markdown",
   "metadata": {},
   "source": [
    "# OCCURENCE OF PAMS IN HUMAN REFERENCE GENOME GRCh38.p4"
   ]
  },
  {
   "cell_type": "markdown",
   "metadata": {},
   "source": [
    "# ASSUME SINGLE-COPIED CHROMOSOMES: 1-22, X, av(X,Y)"
   ]
  },
  {
   "cell_type": "code",
   "execution_count": 6,
   "metadata": {},
   "outputs": [],
   "source": [
    "from Bio import SeqIO\n",
    "import os\n",
    "os.chdir(\"/Users/lickivy/Research/LladserYin/Python/GRCh38.p4\")"
   ]
  },
  {
   "cell_type": "code",
   "execution_count": 7,
   "metadata": {},
   "outputs": [
    {
     "name": "stdout",
     "output_type": "stream",
     "text": [
      "# NAGs in autosomes = 380034908\n",
      "# NGGs in autosomes = 269822755\n",
      "# NAGs in X = 20843230\n",
      "# NGGs in X = 14166478\n",
      "# NAGs in Y = 3535774\n",
      "# NGGs in Y = 2474436\n",
      "# NAG = 793102548.0\n",
      "# NGG = 562132445.0\n"
     ]
    }
   ],
   "source": [
    "#PAMs are NRG: NAG, NGG\n",
    "#takes 3 min\n",
    "NAG=0\n",
    "NGG=0\n",
    "k=1\n",
    "while k<23:\n",
    "    record=SeqIO.read(\"humanchromosome\"+str(k)+\".fasta\",\"fasta\")\n",
    "    seq=record.seq\n",
    "    for N in \"ATCG\": #RG must be preceded by some N\n",
    "        PAM=N+\"AG\" #fasta for 5'NAG3'+\n",
    "        PAM_2=reverse(complement35(PAM)) #fasta for 5'NAG3'-\n",
    "        NAG+=seq.count(PAM)+seq.count(PAM_2)\n",
    "        PAM=N+\"GG\" #fasta for 5'NGG3'+\n",
    "        PAM_2=reverse(complement35(PAM)) #fasta for 5'NGG3'-\n",
    "        NGG+=seq.count(PAM)+seq.count(PAM_2)\n",
    "    k+=1\n",
    "print(\"# NAGs in autosomes =\",NAG)\n",
    "print(\"# NGGs in autosomes =\",NGG)\n",
    "\n",
    "record=SeqIO.read(\"humanchromosomeX.fasta\",\"fasta\")\n",
    "seq=record.seq\n",
    "NAGinX=0\n",
    "NGGinX=0\n",
    "for N in \"ATCG\": #RG must be preceded by some N\n",
    "        PAM=N+\"AG\" #fasta for 5'NAG3'+\n",
    "        PAM_2=reverse(complement35(PAM)) #fasta for 5'NAG3'-\n",
    "        NAGinX+=seq.count(PAM)+seq.count(PAM_2)\n",
    "        PAM=N+\"GG\" #fasta for 5'NGG3'+\n",
    "        PAM_2=reverse(complement35(PAM)) #fasta for 5'NGG3'-\n",
    "        NGGinX+=seq.count(PAM)+seq.count(PAM_2)\n",
    "print(\"# NAGs in X =\",NAGinX)\n",
    "print(\"# NGGs in X =\",NGGinX)\n",
    "        \n",
    "record=SeqIO.read(\"humanchromosomeY.fasta\",\"fasta\")\n",
    "seq=record.seq\n",
    "NAGinY=0\n",
    "NGGinY=0\n",
    "for N in \"ATCG\": #RG must be preceded by some N\n",
    "        PAM=N+\"AG\" #fasta for 5'NAG3'+\n",
    "        PAM_2=reverse(complement35(PAM)) #fasta for 5'NAG3'-\n",
    "        NAGinY+=seq.count(PAM)+seq.count(PAM_2)\n",
    "        PAM=N+\"GG\" #fasta for 5'NGG3'+\n",
    "        PAM_2=reverse(complement35(PAM)) #fasta for 5'NGG3'-\n",
    "        NGGinY+=seq.count(PAM)+seq.count(PAM_2)\n",
    "print(\"# NAGs in Y =\",NAGinY)\n",
    "print(\"# NGGs in Y =\",NGGinY)\n",
    "        \n",
    "NAG=2*NAG+NAGinX+(NAGinX+NAGinY)/2\n",
    "NGG=2*NGG+NGGinX+(NGGinX+NGGinY)/2\n",
    "\n",
    "print(\"# NAG =\",NAG)\n",
    "print(\"# NGG =\",NGG)"
   ]
  },
  {
   "cell_type": "code",
   "execution_count": 8,
   "metadata": {},
   "outputs": [],
   "source": [
    "os.chdir(\"/Users/lickivy/Research/LladserYin/Python\")"
   ]
  },
  {
   "cell_type": "markdown",
   "metadata": {},
   "source": [
    "# pPAM"
   ]
  },
  {
   "cell_type": "code",
   "execution_count": 9,
   "metadata": {},
   "outputs": [
    {
     "name": "stdout",
     "output_type": "stream",
     "text": [
      "pNAG = 2.7748758950422207e-10\n",
      "pNGG = 1.3874379475211104e-09\n"
     ]
    },
    {
     "data": {
      "text/plain": [
       "1.0"
      ]
     },
     "execution_count": 9,
     "metadata": {},
     "output_type": "execute_result"
    }
   ],
   "source": [
    "# pPAM = pNAG, pNGG\n",
    "# (number of NAGs) x pNAG + (number of NGGs) x pNGG = 1\n",
    "# pNAG=pNGG/5\n",
    "pNAG=1/(NAG+5*NGG)\n",
    "pNGG=5*pNAG\n",
    "print(\"pNAG =\",pNAG)\n",
    "print(\"pNGG =\",pNGG)\n",
    "NAG*pNAG+NGG*pNGG # =1 works"
   ]
  },
  {
   "cell_type": "markdown",
   "metadata": {},
   "source": [
    "# SIMPLE MODEL (see simple model notes): P(MUTATE | PAM)"
   ]
  },
  {
   "cell_type": "markdown",
   "metadata": {},
   "source": [
    "# DOUBLE CLICK TO MAKE COHERENT:"
   ]
  },
  {
   "cell_type": "markdown",
   "metadata": {},
   "source": [
    "target:             5' ...PAM 3'\n",
    "target complement:  3' ...    5'\n",
    "gRNA:               5' ...    3'"
   ]
  },
  {
   "cell_type": "markdown",
   "metadata": {},
   "source": [
    "# COMPUTE MATCHES (1'S AND 0'S)"
   ]
  },
  {
   "cell_type": "code",
   "execution_count": 10,
   "metadata": {},
   "outputs": [],
   "source": [
    "def matchesPAM(target53,gRNA53): \n",
    "#given 5'-3' target + PAM and 5'-3' gRNA + PAM as strings,\n",
    "#check same length, \n",
    "#and return 5'-3' sequence of 1's (bp matches) and 0's (bp mismatches) + target PAM (AGTC's)\n",
    "    N=len(target53)\n",
    "    if N != len(gRNA53):\n",
    "        print(\"lengths don't match\")\n",
    "    else:\n",
    "        \n",
    "        i=0\n",
    "        m=\"\" #initialize list\n",
    "        while i<N-3:\n",
    "            if gRNA53[i] == \"U\":\n",
    "                if target53[i]== \"T\":\n",
    "                    m += \"1\"\n",
    "                else:\n",
    "                    m += \"0\"\n",
    "            else:\n",
    "                if target53[i]==gRNA53[i]:\n",
    "                    m += \"1\"\n",
    "                else:\n",
    "                    m += \"0\"\n",
    "            i+=1\n",
    "            \n",
    "        PAM=\"\"\n",
    "        while i<N:\n",
    "            PAM += target53[i]\n",
    "            i+=1\n",
    "            \n",
    "        return m+PAM"
   ]
  },
  {
   "cell_type": "code",
   "execution_count": 11,
   "metadata": {},
   "outputs": [
    {
     "name": "stdout",
     "output_type": "stream",
     "text": [
      "lengths don't match\n"
     ]
    }
   ],
   "source": [
    "matchesPAM(\"A\",\"AU\")"
   ]
  },
  {
   "cell_type": "code",
   "execution_count": 12,
   "metadata": {},
   "outputs": [
    {
     "data": {
      "text/plain": [
       "'111GTT'"
      ]
     },
     "execution_count": 12,
     "metadata": {},
     "output_type": "execute_result"
    }
   ],
   "source": [
    "matchesPAM(\"ACCGTT\",\"ACCGUU\")"
   ]
  },
  {
   "cell_type": "code",
   "execution_count": 13,
   "metadata": {},
   "outputs": [
    {
     "data": {
      "text/plain": [
       "'100111GAT'"
      ]
     },
     "execution_count": 13,
     "metadata": {},
     "output_type": "execute_result"
    }
   ],
   "source": [
    "matchesPAM(\"TTTACCGAT\",\"UGCACCGUU\")"
   ]
  },
  {
   "cell_type": "markdown",
   "metadata": {},
   "source": [
    "# DOUBLE CLICK TO MAKE COHERENT:"
   ]
  },
  {
   "cell_type": "markdown",
   "metadata": {},
   "source": [
    "target:                   5' ...         PAM  3'\n",
    "target complement:        3' ...              5'\n",
    "position n:               5' 19,18,...0       3'\n",
    "matchesPAM:               5' 0,0,1,1...       3'    =    5' x_19, x_18, ..., x_1, x_0 3'\n",
    "consecutive mismatches k: 5' 2,1,1,1...       3'\n",
    "x_n = 1 is match at position n, x_n = 0 is mismatch at position n"
   ]
  },
  {
   "cell_type": "markdown",
   "metadata": {},
   "source": [
    "# LOG PROB OF NT BINDING (LN(P_N))"
   ]
  },
  {
   "cell_type": "code",
   "execution_count": 14,
   "metadata": {},
   "outputs": [],
   "source": [
    "def ltol(s,w,delta,n,k):\n",
    "#given parameters s, w, delta,\n",
    "#and position n (count up from 0 going 3'-5' along target after PAM),\n",
    "#and number of consecutive mismatches k (>= 1),\n",
    "#defines ln[P(tolerate mismatch at position n)] = ln[P(bind nt | x_n = 0)]\n",
    "    return -s*(k-1)-w*delta**n"
   ]
  },
  {
   "cell_type": "markdown",
   "metadata": {},
   "source": [
    "# LOG PROB OF MUTATION (L)"
   ]
  },
  {
   "cell_type": "code",
   "execution_count": 15,
   "metadata": {},
   "outputs": [],
   "source": [
    "def l(matchesPAM,s,w,delta):\n",
    "#NOTE s in (0,infty), w in (0,infty), delta in (0,1)\n",
    "#given 5'-3' (along target DNA) string, matchesPAM, of mismatches (0) and matches (1) followed by PAM (AGTC's),\n",
    "#and function ltol = ln[P(tolerate mismatch)],\n",
    "#and assuming matches always bind,\n",
    "#and assuming PAM not equal to NRG (N={A,G,T,C}, R={A,G}, Y={T,C}) never binds,\n",
    "#check PAM is NRG (5'-3' along target DNA),\n",
    "#and return ln[P(mutate|PAM)]\n",
    "    N=len(matchesPAM)\n",
    "    if matchesPAM[N-1] != \"G\" or (matchesPAM[N-2] in (\"A\",\"G\")) == False:\n",
    "        return \"INVALID PAM\"\n",
    "    else:\n",
    "        l=0 #ln[P(mutate|PAM)]\n",
    "        n=0 #position\n",
    "        k=1 #consecutive MM's, k>=1\n",
    "        if matchesPAM[N-1-3]==\"0\":\n",
    "            l=l+ltol(s,w,delta,n,k)\n",
    "            n+=1\n",
    "        else:\n",
    "            n+=1\n",
    "        while n<N-3:\n",
    "            if matchesPAM[N-1-3-n] == \"0\": #MUST include \"\"\n",
    "                if matchesPAM[N-1-3-n+1] == \"0\": \n",
    "                    k+=1\n",
    "                else:\n",
    "                    k=1\n",
    "                l=l+ltol(s,w,delta,n,k)\n",
    "            else:\n",
    "                k=1\n",
    "            n+=1\n",
    "    return l"
   ]
  },
  {
   "cell_type": "code",
   "execution_count": 16,
   "metadata": {},
   "outputs": [
    {
     "name": "stdout",
     "output_type": "stream",
     "text": [
      "INVALID PAM\n",
      "INVALID PAM\n"
     ]
    }
   ],
   "source": [
    "print(l(\"001000110TTG\",0,1,1)) #PAM works\n",
    "print(\"INVALID PAM\")"
   ]
  },
  {
   "cell_type": "code",
   "execution_count": 17,
   "metadata": {},
   "outputs": [
    {
     "name": "stdout",
     "output_type": "stream",
     "text": [
      "-5.0\n",
      "-5\n"
     ]
    }
   ],
   "source": [
    "print(l(\"0010001100TGG\",1,0,.5)) #s,k work\n",
    "print(-1-1-2-1)"
   ]
  },
  {
   "cell_type": "code",
   "execution_count": 18,
   "metadata": {},
   "outputs": [
    {
     "name": "stdout",
     "output_type": "stream",
     "text": [
      "-220.5\n",
      "-220.5\n"
     ]
    }
   ],
   "source": [
    "print(l(\"001000110TGG\",0,.5,2)) #w,delta work\n",
    "print(-.5*(2**0+2**3+2**4+2**5+2**7+2**8))"
   ]
  },
  {
   "cell_type": "markdown",
   "metadata": {},
   "source": [
    "# PROBABILITY OF BINDING FOR EXAMPLE IN WRITEUP, NO PROBLEM WITH FLOATING PT PRECISION"
   ]
  },
  {
   "cell_type": "code",
   "execution_count": 19,
   "metadata": {},
   "outputs": [
    {
     "name": "stdout",
     "output_type": "stream",
     "text": [
      "-4.443359375\n",
      "-4.443359375\n",
      "-4.443359375\n"
     ]
    }
   ],
   "source": [
    "#s=1,w=1,delta=.5\n",
    "print(l(\"10011100011TGG\",1,1,.5))\n",
    "print(-(1*(1-1)+1*.5**2+2-1+.5**3+3-1+.5**4+1-1+.5**8+2-1+.5**9))\n",
    "print(-(3-1+.5**4+\n",
    "        1-1+.5**8+2-1+.5**9+1*(1-1)+1*.5**2+2-1+.5**3))"
   ]
  },
  {
   "cell_type": "code",
   "execution_count": 20,
   "metadata": {},
   "outputs": [],
   "source": [
    "import numpy"
   ]
  },
  {
   "cell_type": "markdown",
   "metadata": {},
   "source": [
    "# COMPUTE MODEL VALUES OF L"
   ]
  },
  {
   "cell_type": "code",
   "execution_count": 21,
   "metadata": {},
   "outputs": [],
   "source": [
    "def xt(matchesPAM):\n",
    "    #can handle different sequence lengths\n",
    "    #given above matchesPAM_t, return x_t = [u_t,m_{t,0},m_{t,1},...,m_{t,len_t-1},0...] = tth row of matrix x\n",
    "    #u_t = sum_0^{target sequence length - 1} (k_{t,n}-1)\n",
    "    #m_{t,n} = 1 if nth nt mismatch, 0 if match\n",
    "    N=len(matchesPAM) #20nt target + 3nt PAM\n",
    "    x=numpy.zeros(N-3+1)\n",
    "    if matchesPAM[N-1] != \"G\" or (matchesPAM[N-2] in (\"A\",\"G\")) == False:\n",
    "        return \"INVALID PAM\"\n",
    "    else:\n",
    "        x[0]=l(matchesPAM,-1,0,0)\n",
    "        n=0\n",
    "        while n<N-3:\n",
    "            if matchesPAM[N-3-1-n]==\"0\":\n",
    "                x[1+n]=1\n",
    "            n+=1\n",
    "        return x"
   ]
  },
  {
   "cell_type": "code",
   "execution_count": 22,
   "metadata": {},
   "outputs": [
    {
     "name": "stdout",
     "output_type": "stream",
     "text": [
      "[ 1.  1.  1.  0.]\n",
      "[1 1 1 0]\n",
      "[ 0.  1.  0.]\n",
      "[0 1 0]\n"
     ]
    }
   ],
   "source": [
    "print(xt(\"100AGG\")) #works\n",
    "print(numpy.array([1,1,1,0]))\n",
    "print(xt(\"10AGG\"))\n",
    "print(numpy.array([0,1,0]))"
   ]
  },
  {
   "cell_type": "code",
   "execution_count": 23,
   "metadata": {},
   "outputs": [],
   "source": [
    "def x(matchesPAMs):\n",
    "    #given array matchesPAMs listing strings matchesPAM_t = [...,matchesPAM_t,...]\n",
    "    #return matrix x of arrays x_t as rows\n",
    "    M=len(matchesPAMs)\n",
    "    N=len(matchesPAMs[0])\n",
    "    n=0\n",
    "    while n<M:\n",
    "        if len(matchesPAMs[n]) > N:\n",
    "            N=len(matchesPAMs[n])\n",
    "        n+=1\n",
    "    x=numpy.zeros([M,N-3+1])\n",
    "    n=0\n",
    "    while n<M:\n",
    "        y=xt(matchesPAMs[n])\n",
    "        if y==\"INVALID PAM\":\n",
    "            return \"INVALID PAM\"\n",
    "        else:\n",
    "            x[n,:]=numpy.append(y,numpy.zeros(N-3+1-len(y)))\n",
    "        n+=1\n",
    "    return x"
   ]
  },
  {
   "cell_type": "code",
   "execution_count": 24,
   "metadata": {},
   "outputs": [
    {
     "data": {
      "text/plain": [
       "'INVALID PAM'"
      ]
     },
     "execution_count": 24,
     "metadata": {},
     "output_type": "execute_result"
    }
   ],
   "source": [
    "x([\"111GAA\",\"110AGG\"]) #PAM works"
   ]
  },
  {
   "cell_type": "code",
   "execution_count": 25,
   "metadata": {},
   "outputs": [
    {
     "name": "stdout",
     "output_type": "stream",
     "text": [
      "[ 1.  1.  1.  0.]\n",
      "[ 0.  1.  0.]\n",
      "[ 1.  0.  1.  1.]\n",
      "[ 0.  0.  1.  0.]\n"
     ]
    },
    {
     "data": {
      "text/plain": [
       "array([[ 1.,  1.,  1.,  0.],\n",
       "       [ 0.,  1.,  0.,  0.],\n",
       "       [ 1.,  0.,  1.,  1.],\n",
       "       [ 0.,  0.,  1.,  0.]])"
      ]
     },
     "execution_count": 25,
     "metadata": {},
     "output_type": "execute_result"
    }
   ],
   "source": [
    "print(xt(\"100AGG\")) #rest works\n",
    "print(xt(\"10AGG\"))\n",
    "print(xt(\"001AGG\"))\n",
    "print(xt(\"101AGG\"))\n",
    "matchesPAMs=[\"100AGG\",\"10AGG\",\"001AGG\",\"101AGG\"]\n",
    "X=x(matchesPAMs)\n",
    "X"
   ]
  },
  {
   "cell_type": "code",
   "execution_count": 26,
   "metadata": {},
   "outputs": [],
   "source": [
    "def ymodel(theta,matchesPAMs):\n",
    "    #given list theta = [s,w,delta], matchesPAMs\n",
    "    #return numpy.array ymodel of model y-values = [l(x_1),...,l(x_t),...,l(x_N)]\n",
    "    s,w,delta=theta\n",
    "    X=x(matchesPAMs)\n",
    "    y=-s*X[:,0]\n",
    "    n=0\n",
    "    xwidth=len(X[0,:])\n",
    "    while n < xwidth-1:\n",
    "        y += -w*X[:,n+1]*delta**n\n",
    "        n+=1 \n",
    "    return y"
   ]
  },
  {
   "cell_type": "code",
   "execution_count": 27,
   "metadata": {},
   "outputs": [
    {
     "name": "stdout",
     "output_type": "stream",
     "text": [
      "[[ 1.  1.  1.  0.]\n",
      " [ 0.  1.  0.  0.]\n",
      " [ 1.  0.  1.  1.]\n",
      " [ 0.  0.  1.  0.]]\n",
      "[-6 -2 -6]\n",
      "[-6. -2. -6. -2.]\n"
     ]
    }
   ],
   "source": [
    "theta=[2,2,1]\n",
    "print(X)\n",
    "print(numpy.array([-2*1-2*(1+1),-2*0-2*(1),-2*1-2*(1+1)]))\n",
    "Ymodel=ymodel(theta,matchesPAMs)\n",
    "print(Ymodel) #works"
   ]
  },
  {
   "cell_type": "markdown",
   "metadata": {},
   "source": [
    "# COMPUTE PSEUDODATA VALUES OF L"
   ]
  },
  {
   "cell_type": "code",
   "execution_count": 28,
   "metadata": {},
   "outputs": [],
   "source": [
    "def ypseudo(theta,matchesPAMs,sigma):\n",
    "    #given list theta = [s,w,delta], matchesPAMs, sigma = sd of error\n",
    "    #return numpy.array ypseudo of pseudodata y-values = [l_1,...,l_t,...,l_N]\n",
    "    y1=ymodel(theta,matchesPAMs)\n",
    "    y2=y1+numpy.random.normal(0,sigma,len(y1)) #normal(mean, s.d, length)\n",
    "    return y2"
   ]
  },
  {
   "cell_type": "code",
   "execution_count": 29,
   "metadata": {},
   "outputs": [
    {
     "name": "stdout",
     "output_type": "stream",
     "text": [
      "[-6.10157312 -1.69777827 -5.16952351 -2.39632954]\n"
     ]
    }
   ],
   "source": [
    "Ypseudo=ypseudo(theta,matchesPAMs,.5)\n",
    "print(Ypseudo)"
   ]
  },
  {
   "cell_type": "markdown",
   "metadata": {},
   "source": [
    "# p = P(MUTATE (OFF)-TARGET) = mCpPAM x P(MUTATE | PAM)"
   ]
  },
  {
   "cell_type": "markdown",
   "metadata": {},
   "source": [
    "# COMPUTE MODEL VALUES OF LN(p)"
   ]
  },
  {
   "cell_type": "code",
   "execution_count": 30,
   "metadata": {},
   "outputs": [],
   "source": [
    "def lnpmodel(C,theta,matchesPAMs):\n",
    "    #given C, list theta = [s,w,delta], matchesPAMs\n",
    "    #return numpy.array lnpmodel of model ln(p)-values = [lnp(C,x_1),...,lnp(C,x_t),...,lnp(C,x_N)]\n",
    "    return numpy.log(C*m)+ymodel(theta,matchesPAMs)"
   ]
  },
  {
   "cell_type": "code",
   "execution_count": 31,
   "metadata": {},
   "outputs": [
    {
     "name": "stdout",
     "output_type": "stream",
     "text": [
      "[  6.79751927  10.79751927   6.79751927  10.79751927]\n",
      "[  6.79751927  10.79751927   6.79751927  10.79751927]\n"
     ]
    }
   ],
   "source": [
    "C=2\n",
    "Lnpmodel=lnpmodel(C,theta,matchesPAMs)\n",
    "print(Lnpmodel)\n",
    "print(numpy.log(C*m)+Ymodel) #works"
   ]
  },
  {
   "cell_type": "markdown",
   "metadata": {},
   "source": [
    "# COMPUTE PSEUDODATA VALUES OF LN(p)"
   ]
  },
  {
   "cell_type": "code",
   "execution_count": 32,
   "metadata": {},
   "outputs": [],
   "source": [
    "def lnppseudo(C,theta,matchesPAMs,sigma):\n",
    "    #given C, list theta = [s,w,delta], matchesPAMs, sigma = sd of error\n",
    "    #return numpy.array lnppseudo of pseudodata ln(p)-values = [lnp_1,...,lnp_t,...,lnp_N]\n",
    "    y1=lnpmodel(C,theta,matchesPAMs)\n",
    "    y2=y1+numpy.random.normal(0,sigma,len(y1)) #normal(mean, s.d, length)\n",
    "    return y2"
   ]
  },
  {
   "cell_type": "code",
   "execution_count": 33,
   "metadata": {},
   "outputs": [
    {
     "name": "stdout",
     "output_type": "stream",
     "text": [
      "[  6.69734245  11.3710995    6.11655909   9.6856048 ]\n"
     ]
    }
   ],
   "source": [
    "Lnppseudo=lnppseudo(C,theta,matchesPAMs,.5)\n",
    "print(Lnppseudo)"
   ]
  },
  {
   "cell_type": "markdown",
   "metadata": {},
   "source": [
    "# LEAST SQUARES FIT OF MODEL TO DATA LN(p) VALUES"
   ]
  },
  {
   "cell_type": "code",
   "execution_count": 34,
   "metadata": {},
   "outputs": [],
   "source": [
    "def residuals(Cthetahat,y,x):\n",
    "    #given:\n",
    "    #list Cthetahat of model param estimates = [C,s,w,delta],\n",
    "    #numpy.array y of data ln(p)-values = [...,lnp_t,...],\n",
    "    #matrix numpy.array x of data x-values = [...,x_t,...]\n",
    "    #return:\n",
    "    #numpy.array of residuals = data - model ln(p)-values = [...,lnp_t-lnp(x_t),...]\n",
    "    C,s,w,delta=Cthetahat\n",
    "    xwidth=len(x[0,:])\n",
    "    res=y-numpy.log(C*m)+x[:,0]*s\n",
    "    n=0\n",
    "    while n < xwidth-1:\n",
    "        res += w*x[:,n+1]*delta**n\n",
    "        n+=1\n",
    "    return res"
   ]
  },
  {
   "cell_type": "code",
   "execution_count": 35,
   "metadata": {},
   "outputs": [
    {
     "name": "stdout",
     "output_type": "stream",
     "text": [
      "[ 0.  0.  0.  0.]\n",
      "[0 0 0]\n",
      "[-0.10017682  0.57358023 -0.68096018 -1.11191447]\n",
      "[-0.10017682  0.57358023 -0.68096018 -1.11191447]\n"
     ]
    }
   ],
   "source": [
    "print(residuals([C,2,2,1],Lnpmodel,X)) #works\n",
    "print(numpy.array([0,0,0]))\n",
    "print(residuals([C,2,2,1],Lnppseudo,X))\n",
    "print(Lnppseudo-Lnpmodel)"
   ]
  },
  {
   "cell_type": "code",
   "execution_count": 36,
   "metadata": {},
   "outputs": [],
   "source": [
    "from scipy.optimize import leastsq"
   ]
  },
  {
   "cell_type": "markdown",
   "metadata": {},
   "source": [
    "see http://docs.scipy.org/doc/scipy-0.14.0/reference/tutorial/optimize.html > Least-square fitting"
   ]
  },
  {
   "cell_type": "code",
   "execution_count": 37,
   "metadata": {},
   "outputs": [],
   "source": [
    "def LS(Ctheta0,y,x):\n",
    "    #given data y = [...,lnp_t,...], data x = [...,x_t,...], initial guess Ctheta0 = [C0,s0,w0,delta0], and residuals function\n",
    "    #return estimated params = numpy array [C, s, w, delta]    \n",
    "    #NOTE: need at least as many data values as parameters\n",
    "    Cthetahat=leastsq(residuals,Ctheta0,args=(y,x))[0]\n",
    "    #print(\"[C,s,w,delta] = \")\n",
    "    return(Cthetahat)"
   ]
  },
  {
   "cell_type": "markdown",
   "metadata": {},
   "source": [
    "# IF RUNTIME ERROR ENCOUNTERED IN LOG, JUST RERUN LS FIT"
   ]
  },
  {
   "cell_type": "code",
   "execution_count": 38,
   "metadata": {},
   "outputs": [
    {
     "name": "stdout",
     "output_type": "stream",
     "text": [
      "[-10. -10. -10. -10.]\n",
      "[ 2.  2.  2.  1.]\n",
      "[ 0.95567596  2.73848355  1.26151645  1.        ]\n",
      "[  2.70670566e-01   4.00000000e+00  -2.92557971e-75   3.09180036e+00]\n",
      "[2, 2, 2, 1]\n"
     ]
    },
    {
     "name": "stderr",
     "output_type": "stream",
     "text": [
      "-c:10: RuntimeWarning: invalid value encountered in log\n"
     ]
    }
   ],
   "source": [
    "print(LS([-10,-10,-10,-10],Lnpmodel,X)) #fit is not necessarily unique, must try different theta0 to make s in (0,infty), w in (0,infty), delta in (0,1)  \n",
    "print(LS([2,2,2,1],Lnpmodel,X)) #works\n",
    "print(LS([2,2,2,2],Lnpmodel,X)) #ok fit...\n",
    "print(LS([5,5,5,5],Lnpmodel,X)) #bad fit\n",
    "print([2,2,2,1])"
   ]
  },
  {
   "cell_type": "markdown",
   "metadata": {},
   "source": [
    "# LEAST SQUARES FIT OF MODEL TO PSEUDODATA LN(p) VALUES: EXAMPLE"
   ]
  },
  {
   "cell_type": "code",
   "execution_count": 39,
   "metadata": {},
   "outputs": [
    {
     "name": "stdout",
     "output_type": "stream",
     "text": [
      "Ctheta =  [2, 2, 0.333, 0.5]\n",
      "Ctheta0 =  [1, 1, 1, 10]\n",
      "matchesPAMs =  ['00010AGG', '00011AGG', '00110AGG', '00111AGG', '01110AGG', '01111AGG', '10010AGG', '10011AGG', '10110AGG', '10111AGG', '11010AGG', '11011AGG', '11110AGG', '11111AGG']\n",
      "Lnpmodel =  [  6.31883177   6.65183177  10.40208177  10.73508177  12.44370677\n",
      "  12.77670677  10.33964427  10.67264427  12.42289427  12.75589427\n",
      "  12.38126927  12.71426927  12.46451927  12.79751927]\n",
      "Lnppseudo =  [  6.36060475   6.52496125  10.44289765  10.74311179  12.35391391\n",
      "  12.85169686  10.36280885  10.61483672  12.50408809  12.76133973\n",
      "  12.33439395  12.83465495  12.56643662  12.85705678]\n",
      "X =  [[ 3.  1.  0.  1.  1.  1.]\n",
      " [ 3.  0.  0.  1.  1.  1.]\n",
      " [ 1.  1.  0.  0.  1.  1.]\n",
      " [ 1.  0.  0.  0.  1.  1.]\n",
      " [ 0.  1.  0.  0.  0.  1.]\n",
      " [ 0.  0.  0.  0.  0.  1.]\n",
      " [ 1.  1.  0.  1.  1.  0.]\n",
      " [ 1.  0.  0.  1.  1.  0.]\n",
      " [ 0.  1.  0.  0.  1.  0.]\n",
      " [ 0.  0.  0.  0.  1.  0.]\n",
      " [ 0.  1.  0.  1.  0.  0.]\n",
      " [ 0.  0.  0.  1.  0.  0.]\n",
      " [ 0.  1.  0.  0.  0.  0.]\n",
      " [ 0.  0.  0.  0.  0.  0.]]\n"
     ]
    }
   ],
   "source": [
    "C=2\n",
    "theta=(2,.333,.5)\n",
    "Ctheta=[2,2,.333,.5]\n",
    "Ctheta0=[1,1,1,10] #initial guess of theta = (s,w,delta)\n",
    "sigma=0.1 #sd of error of pseudodata\n",
    "matchesPAMs=[]\n",
    "for a in \"01\":\n",
    "    for b in \"01\":\n",
    "        for c in \"01\":\n",
    "            for d in \"01\":\n",
    "                for e in \"01\":\n",
    "                    if (a+b+c) != \"010\" and d != \"0\" or e==1: #removing one of the graphs manually\n",
    "                        matchesPAMs.append(a+b+c+d+e+\"AGG\")\n",
    "print(\"Ctheta = \",Ctheta)\n",
    "print(\"Ctheta0 = \",Ctheta0)\n",
    "print(\"matchesPAMs = \",matchesPAMs)\n",
    "Lnpmodel=lnpmodel(C,theta,matchesPAMs)\n",
    "X=x(matchesPAMs)\n",
    "Lnppseudo=lnppseudo(C,theta,matchesPAMs,sigma)\n",
    "print(\"Lnpmodel = \",Lnpmodel)\n",
    "print(\"Lnppseudo = \",Lnppseudo)\n",
    "print(\"X = \",x(matchesPAMs))"
   ]
  },
  {
   "cell_type": "code",
   "execution_count": 40,
   "metadata": {},
   "outputs": [
    {
     "data": {
      "text/plain": [
       "array([ 2.13395289,  1.99693576,  0.32216288,  0.63260171])"
      ]
     },
     "execution_count": 40,
     "metadata": {},
     "output_type": "execute_result"
    }
   ],
   "source": [
    "LS(Ctheta0,Lnppseudo,X) #good fit"
   ]
  },
  {
   "cell_type": "code",
   "execution_count": 41,
   "metadata": {},
   "outputs": [
    {
     "data": {
      "text/plain": [
       "array([ 2.   ,  2.   ,  0.333,  0.5  ])"
      ]
     },
     "execution_count": 41,
     "metadata": {},
     "output_type": "execute_result"
    }
   ],
   "source": [
    "LS(Ctheta0,Lnpmodel,X)"
   ]
  },
  {
   "cell_type": "markdown",
   "metadata": {},
   "source": [
    "# LEAST SQUARES MODEL FIT TO HSU ET AL. FIG2 DATA: DIFFERENT % DATA USED"
   ]
  },
  {
   "cell_type": "markdown",
   "metadata": {},
   "source": [
    "# CLEAR FIT# COLS IN EXCEL BEFORE RUNNING"
   ]
  },
  {
   "cell_type": "markdown",
   "metadata": {},
   "source": [
    "# IF ERROR, JUST RERUN"
   ]
  },
  {
   "cell_type": "markdown",
   "metadata": {},
   "source": [
    "# RANDOM SAMPLES -> DIFFERENT RESULTS EACH RUN:"
   ]
  },
  {
   "cell_type": "code",
   "execution_count": 42,
   "metadata": {},
   "outputs": [],
   "source": [
    "from openpyxl import Workbook\n",
    "from openpyxl import load_workbook\n",
    "import math\n",
    "from numpy import random as ran"
   ]
  },
  {
   "cell_type": "code",
   "execution_count": 44,
   "metadata": {},
   "outputs": [],
   "source": [
    "#takes 5 min\n",
    "\n",
    "#simple model:\n",
    "#use increments of 10% of data to fit model parameters\n",
    "#predict unused data p estimates\n",
    "#calculate SSE (prediction vs. data)\n",
    "\n",
    "wb=load_workbook('SuppTable5fit.xlsx')\n",
    "ws=wb.active\n",
    "ws['CC5'].value=\"Sample #'s used = fitted\" #col 81\n",
    "ws['CD5'].value=\"Sample #'s unused = predicted\"\n",
    "ws['CE5'].value=\"C\"\n",
    "ws['CF5'].value=\"s\"\n",
    "ws['CG5'].value=\"w\"\n",
    "ws['CH5'].value=\"delta\"\n",
    "ws['CI5'].value=\"SSE (pmodel vs. pdata)\"\n",
    "ws['CJ5'].value=\"RMSE (pmodel vs. pdata)\"\n",
    "ws['CM5'].value=\"lnpdata\"\n",
    "ws['CN5'].value=\"Python lnpdata (python doesn't accept excel formulas)\"\n",
    "ws['CO5'].value=\"matchesPAM\" #col 93\n",
    "\n",
    "#calculate matchesPAM\n",
    "tot=ws['CB8'].value\n",
    "k=0\n",
    "while k<tot:\n",
    "    r=6+k\n",
    "    ws.cell(row=r,column=93).value=matchesPAM(ws.cell(row=r,column=68).value+\"GGG\",ws.cell(row=r,column=70).value+\"GGG\")\n",
    "    k+=1   \n",
    "\n",
    "SSE=numpy.array([])\n",
    "RMSe=numpy.array([])\n",
    "percent=numpy.array([])\n",
    "    \n",
    "tenpercent=1 #use tenpercent*10 % of data\n",
    "while tenpercent<10:\n",
    "    amount=math.floor(tenpercent*10/100*tot) #use amount # of data\n",
    "    \n",
    "    #do T times for each %data\n",
    "    #pwr analysis -> T=310\n",
    "    T=310\n",
    "    k=0\n",
    "    while k<T:\n",
    "        #use sample #'s in used:\n",
    "        used=numpy.array([])\n",
    "        unused=numpy.array([])\n",
    "        i=0\n",
    "        while i<amount:\n",
    "            num=ran.randint(1,tot+1)\n",
    "            while num in used: #use 10% of data unique data\n",
    "                num=ran.randint(1,tot+1)\n",
    "            used=numpy.append(used,num)\n",
    "            i+=1\n",
    "        i=1\n",
    "        while i<tot+1:\n",
    "            if i not in used:\n",
    "                unused=numpy.append(unused,i)\n",
    "            i+=1\n",
    "        fitnum=T*(tenpercent-1)+k #fit number\n",
    "        r=6+fitnum #row number\n",
    "        ws.cell(row=r,column=81).value=numpy.array_str(used)\n",
    "        ws.cell(row=r,column=82).value=numpy.array_str(unused)\n",
    "        \n",
    "        #fit used data\n",
    "        #used row = r\n",
    "        matchesPAMs=numpy.array([])\n",
    "        Y=numpy.array([])\n",
    "        N=len(used)\n",
    "        j=0\n",
    "        while j<N:\n",
    "            #matchesPAM row = r2\n",
    "            r2=int(5+used[j])\n",
    "            matchesPAMs=numpy.append(matchesPAMs,[ws.cell(row=r2,column=93).value])\n",
    "            Y=numpy.append(Y,ws.cell(row=r2,column=92).value) #lnpdata\n",
    "            j+=1\n",
    "        X=x(matchesPAMs)\n",
    "        Ctheta0=[2,2,2,2] ####################### initial guess, change to make fits better ########################\n",
    "        Cthetahat=LS(Ctheta0,Y,X)\n",
    "        C=Cthetahat[0]\n",
    "        s=Cthetahat[1]\n",
    "        w=Cthetahat[2]\n",
    "        delta=Cthetahat[3]\n",
    "        ws.cell(row=r,column=83).value=C\n",
    "        ws.cell(row=r,column=84).value=s\n",
    "        ws.cell(row=r,column=85).value=w\n",
    "        ws.cell(row=r,column=86).value=delta\n",
    "        \n",
    "        #predict unused data\n",
    "        matchesPAMs=numpy.array([])\n",
    "        Pdata=numpy.array([])\n",
    "        M=len(unused)\n",
    "        j=0\n",
    "        while j<M:\n",
    "            #matchesPAM row = r2\n",
    "            r2=int(5+unused[j])\n",
    "            matchesPAMs=numpy.append(matchesPAMs,[ws.cell(row=r2,column=93).value])\n",
    "            Pdata=numpy.append(Pdata,ws.cell(row=r2,column=90).value) #pdata\n",
    "            j+=1\n",
    "        theta=[s,w,delta]\n",
    "        Pmodel=numpy.exp(lnpmodel(C,theta,matchesPAMs)) #pmodel   \n",
    "        #pmodel fit col = s\n",
    "        s=94+fitnum\n",
    "        ws.cell(row=5,column=s).value=\"pmodel Fit\"+str(fitnum+1)\n",
    "        j=0\n",
    "        while j<M:\n",
    "            #matchesPAM row = r2\n",
    "            r2=int(5+unused[j])\n",
    "            ws.cell(row=r2,column=s).value=Pmodel[j]\n",
    "            j+=1\n",
    "        \n",
    "        #compute SSE\n",
    "        SSEval=sum((Pdata-Pmodel)*(Pdata-Pmodel))\n",
    "        ws.cell(row=6+fitnum,column=87).value=SSEval\n",
    "        SSE=numpy.append(SSE,SSEval)\n",
    "        percent=numpy.append(percent,tenpercent*10)\n",
    "        \n",
    "        #compute RMSE\n",
    "        RMSeval=(SSEval/M)**(1/2)\n",
    "        ws.cell(row=6+fitnum,column=88).value=RMSeval\n",
    "        RMSe=numpy.append(RMSe,RMSeval)\n",
    "        \n",
    "        k+=1\n",
    "    tenpercent+=1\n",
    "wb.save('SuppTable5fit.xlsx')"
   ]
  },
  {
   "cell_type": "code",
   "execution_count": 45,
   "metadata": {},
   "outputs": [],
   "source": [
    "import matplotlib.pyplot as plt"
   ]
  },
  {
   "cell_type": "code",
   "execution_count": null,
   "metadata": {},
   "outputs": [],
   "source": [
    "#\"SSE vs percent.png\"\n",
    "#graph SSE vs. % data used\n",
    "plt.plot(percent,SSE,'b.')\n",
    "plt.title(\"SSE of p \\n (Fit parameters to used data, model prediction for unused data)\",fontsize=16)\n",
    "plt.xlabel(\"% Data Used \"+r\"($n_i=310$)\"+\"\\n\", fontsize=16)\n",
    "plt.ylabel(\"SSE\", fontsize=16)\n",
    "plt.show()"
   ]
  },
  {
   "cell_type": "code",
   "execution_count": 49,
   "metadata": {},
   "outputs": [],
   "source": [
    "avRMSe=numpy.array([])\n",
    "sdRMSe=numpy.array([])\n",
    "k=0\n",
    "while k<9:\n",
    "    RMSek=RMSe[k*T:k*T+T]\n",
    "    av=sum(RMSek)/T\n",
    "    avRMSe=numpy.append(avRMSe,av)\n",
    "    sd=sum((RMSek-av)*(RMSek-av))/(T-1)\n",
    "    sdRMSe=numpy.append(sdRMSe,sd)\n",
    "    k+=1"
   ]
  },
  {
   "cell_type": "code",
   "execution_count": 50,
   "metadata": {},
   "outputs": [],
   "source": [
    "#\"RMSe vs percent.png\"\n",
    "#graph RMS error + error bars vs. % data used\n",
    "per=numpy.array([10,20,30,40,50,60,70,80,90])\n",
    "plt.plot(per,avRMSe,'b.')\n",
    "plt.errorbar(per,avRMSe,yerr=sdRMSe,linestyle=\"None\",elinewidth=6,capsize=5,color=\"black\")\n",
    "plt.title(\"RMS Error of p \\n(Fit parameters to used data, model prediction for unused data)\",fontsize=16)\n",
    "plt.xlabel(\"% Data Used \"+r\"($n_i=310$)\"+\"\\n\", fontsize=16)\n",
    "plt.ylabel(r'$\\sqrt{MSE}$', fontsize=16)\n",
    "plt.show()"
   ]
  },
  {
   "cell_type": "markdown",
   "metadata": {},
   "source": [
    "# LEAST SQUARES MODEL FIT TO HSU ET AL. FIG2 DATA: DIFFERENT TARGET DATA USED"
   ]
  },
  {
   "cell_type": "markdown",
   "metadata": {},
   "source": [
    "# DON'T CHANGE:"
   ]
  },
  {
   "cell_type": "code",
   "execution_count": 41,
   "metadata": {},
   "outputs": [
    {
     "name": "stdout",
     "output_type": "stream",
     "text": [
      "target1 C,s,w,delta = [  1.26397591e+08   6.00000000e+00   7.27646758e-08   5.80077656e+00]\n",
      "target2 C,s,w,delta = [  1.18684894e+08   6.00000000e+00   1.20989129e-08   5.78277019e+00]\n",
      "target3 C,s,w,delta = [  7.49495057e+07   6.00000000e+00   1.60527643e-08   5.78285015e+00]\n",
      "target6 C,s,w,delta = [  5.30974571e+07   6.00000000e+00   7.37404254e-07   5.78327615e+00]\n"
     ]
    }
   ],
   "source": [
    "Ctheta0=[6,6,6,6]\n",
    "\n",
    "#Target1\n",
    "matchesPAMs=numpy.array([])\n",
    "Y=numpy.array([])\n",
    "i=6\n",
    "while i<62:\n",
    "    matchesPAMs=numpy.append(matchesPAMs,ws.cell(row=i,column=92).value)\n",
    "    Y=numpy.append(Y,ws.cell(row=i,column=91).value)\n",
    "    i+=1\n",
    "i=222\n",
    "while i<275:\n",
    "    matchesPAMs=numpy.append(matchesPAMs,ws.cell(row=i,column=92).value)\n",
    "    Y=numpy.append(Y,ws.cell(row=i,column=91).value)\n",
    "    i+=1\n",
    "X=x(matchesPAMs)\n",
    "Cthetahat1=LS(Ctheta0,Y,X)\n",
    "\n",
    "#Target2\n",
    "matchesPAMs=numpy.array([])\n",
    "Y=numpy.array([])\n",
    "i=62\n",
    "while i<118:\n",
    "    matchesPAMs=numpy.append(matchesPAMs,ws.cell(row=i,column=92).value)\n",
    "    Y=numpy.append(Y,ws.cell(row=i,column=91).value)\n",
    "    i+=1\n",
    "i=275\n",
    "while i<330:\n",
    "    matchesPAMs=numpy.append(matchesPAMs,ws.cell(row=i,column=92).value)\n",
    "    Y=numpy.append(Y,ws.cell(row=i,column=91).value)\n",
    "    i+=1\n",
    "X=x(matchesPAMs)\n",
    "Cthetahat2=LS(Ctheta0,Y,X)\n",
    "\n",
    "#Target3\n",
    "matchesPAMs=numpy.array([])\n",
    "Y=numpy.array([])\n",
    "i=118\n",
    "while i<171:\n",
    "    matchesPAMs=numpy.append(matchesPAMs,ws.cell(row=i,column=92).value)\n",
    "    Y=numpy.append(Y,ws.cell(row=i,column=91).value)\n",
    "    i+=1\n",
    "i=330\n",
    "while i<381:\n",
    "    matchesPAMs=numpy.append(matchesPAMs,ws.cell(row=i,column=92).value)\n",
    "    Y=numpy.append(Y,ws.cell(row=i,column=91).value)\n",
    "    i+=1\n",
    "X=x(matchesPAMs)\n",
    "Cthetahat3=LS(Ctheta0,Y,X)\n",
    "\n",
    "#Target6\n",
    "matchesPAMs=numpy.array([])\n",
    "Y=numpy.array([])\n",
    "i=171\n",
    "while i<222:\n",
    "    matchesPAMs=numpy.append(matchesPAMs,ws.cell(row=i,column=92).value)\n",
    "    Y=numpy.append(Y,ws.cell(row=i,column=91).value)\n",
    "    i+=1\n",
    "i=381\n",
    "while i<435:\n",
    "    matchesPAMs=numpy.append(matchesPAMs,ws.cell(row=i,column=92).value)\n",
    "    Y=numpy.append(Y,ws.cell(row=i,column=91).value)\n",
    "    i+=1\n",
    "X=x(matchesPAMs)\n",
    "Cthetahat6=LS(Ctheta0,Y,X)\n",
    "\n",
    "print(\"target1 C,s,w,delta =\",Cthetahat1)\n",
    "print(\"target2 C,s,w,delta =\",Cthetahat2)\n",
    "print(\"target3 C,s,w,delta =\",Cthetahat3)\n",
    "print(\"target6 C,s,w,delta =\",Cthetahat6)\n"
   ]
  },
  {
   "cell_type": "markdown",
   "metadata": {},
   "source": [
    "# NEXT: FIT MARKOV MODEL E"
   ]
  },
  {
   "cell_type": "markdown",
   "metadata": {},
   "source": [
    "# NEXT: FIT ALL HSU ET AL. DATA"
   ]
  }
 ],
 "metadata": {
  "kernelspec": {
   "display_name": "Python 3",
   "language": "python",
   "name": "python3"
  },
  "language_info": {
   "codemirror_mode": {
    "name": "ipython",
    "version": 3
   },
   "file_extension": ".py",
   "mimetype": "text/x-python",
   "name": "python",
   "nbconvert_exporter": "python",
   "pygments_lexer": "ipython3",
   "version": "3.6.0"
  }
 },
 "nbformat": 4,
 "nbformat_minor": 1
}
